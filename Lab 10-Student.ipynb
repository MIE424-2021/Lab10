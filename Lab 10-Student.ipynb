{
 "cells": [
  {
   "cell_type": "markdown",
   "id": "apart-compatibility",
   "metadata": {},
   "source": [
    "Lab 10: Image Classification\n",
    "---"
   ]
  },
  {
   "cell_type": "markdown",
   "id": "ruled-stock",
   "metadata": {},
   "source": [
    "### Image Classification Problem\n",
    "\n",
    "In this lab we will introduce the Image Classification problem, which is the task of assigning an input image one label from a fixed set of categories. This is one of the core problems in Computer Vision that, despite its simplicity, has a large variety of practical applications. Moreover, as we will see later in the course, many other seemingly distinct Computer Vision tasks (such as object detection, segmentation) can be reduced to image classification.\n",
    "\n",
    "**Example.** For example, in the image below an image classification model takes a single image and assigns probabilities to 4 labels, {cat, dog, hat, mug}. As shown in the image, keep in mind that to a computer an image is represented as one large 3-dimensional array of numbers. In this example, the cat image is 248 pixels wide, 400 pixels tall, and has three color channels Red,Green,Blue (or RGB for short). Therefore, the image consists of 248 x 400 x 3 numbers, or a total of 297,600 numbers. Each number is an integer that ranges from 0 (black) to 255 (white). Our task is to turn this quarter of a million numbers into a single label, such as “cat”.\n",
    "\n",
    "![Image Classification](img/classify.png)\n",
    "\n",
    "The task in Image Classification is to predict a single label (or a distribution over labels as shown here to indicate our confidence) for a given image. Images are 3-dimensional arrays of integers from 0 to 255, of size Width x Height x 3. The 3 represents the three color channels Red, Green, Blue.\n",
    "\n",
    "**Challenges.** Since this task of recognizing a visual concept (e.g. cat) is relatively trivial for a human to perform, it is worth considering the challenges involved from the perspective of a Computer Vision algorithm. As we present (an inexhaustive) list of challenges below, keep in mind the raw representation of images as a 3-D array of brightness values:\n",
    "\n",
    "- Viewpoint variation. A single instance of an object can be oriented in many ways with respect to the camera.\n",
    "- Scale variation. Visual classes often exhibit variation in their size (size in the real world, not only in terms of their extent in the image).\n",
    "- Deformation. Many objects of interest are not rigid bodies and can be deformed in extreme ways.\n",
    "- Occlusion. The objects of interest can be occluded. Sometimes only a small portion of an object (as little as few pixels) could be visible.\n",
    "- Illumination conditions. The effects of illumination are drastic on the pixel level.\n",
    "- Background clutter. The objects of interest may blend into their environment, making them hard to identify.\n",
    "- Intra-class variation. The classes of interest can often be relatively broad, such as chair. There are many different types of these objects, each with their own appearance.\n",
    "\n",
    "A good image classification model must be invariant to the cross product of all these variations, while simultaneously retaining sensitivity to the inter-class variations.\n",
    "\n",
    "![Image Classification Challenges](img/challenges.jpeg)\n",
    "\n",
    "\n",
    "**Data-driven approach.** How might we go about writing an algorithm that can classify images into distinct categories? Unlike writing an algorithm for, for example, sorting a list of numbers, it is not obvious how one might write an algorithm for identifying cats in images. Therefore, instead of trying to specify what every one of the categories of interest look like directly in code, the approach that we will take is not unlike one you would take with a child: we’re going to provide the computer with many examples of each class and then develop learning algorithms that look at these examples and learn about the visual appearance of each class. This approach is referred to as a data-driven approach, since it relies on first accumulating a training dataset of labeled images. Here is an example of what such a dataset might look like:\n",
    "\n",
    "![Image Classification Training Set](img/trainset.jpg)\n",
    "\n",
    "An example training set for four visual categories. In practice we may have thousands of categories and hundreds of thousands of images for each category.\n",
    "\n",
    "**The image classification pipeline.** We’ve seen that the task in Image Classification is to take an array of pixels that represents a single image and assign a label to it. Our complete pipeline can be formalized as follows:\n",
    "\n",
    "- **Input:** Our input consists of a set of N images, each labeled with one of K different classes. We refer to this data as the training set.\n",
    "- **Learning:** Our task is to use the training set to learn what every one of the classes looks like. We refer to this step as training a classifier, or learning a model.\n",
    "- **Evaluation:** In the end, we evaluate the quality of the classifier by asking it to predict labels for a new set of images that it has never seen before. We will then compare the true labels of these images to the ones predicted by the classifier. Intuitively, we’re hoping that a lot of the predictions match up with the true answers (which we call the ground truth)."
   ]
  },
  {
   "cell_type": "markdown",
   "id": "constitutional-testament",
   "metadata": {},
   "source": [
    "### Image Classificiation Datasets"
   ]
  },
  {
   "cell_type": "markdown",
   "id": "hungry-estimate",
   "metadata": {},
   "source": [
    "Example image classification dataset: **[CIFAR-10](https://www.cs.toronto.edu/~kriz/cifar.html).** \n",
    "\n",
    "One popular toy image classification dataset is the CIFAR-10 dataset. This dataset consists of 60,000 tiny images that are 32 pixels high and wide. Each image is labeled with one of 10 classes (for example “airplane, automobile, bird, etc”). These 60,000 images are partitioned into a training set of 50,000 images and a test set of 10,000 images. In the image below you can see 10 random example images from each one of the 10 classes:\n",
    "\n",
    "![Image Classification Training Set](img/cifar10.jpg)\n",
    "\n",
    "Left: Example images from the CIFAR-10 dataset. Right: first column shows a few test images and next to each we show the top 10 nearest neighbors in the training set according to pixel-wise difference.\n"
   ]
  },
  {
   "cell_type": "code",
   "execution_count": 1,
   "id": "european-david",
   "metadata": {},
   "outputs": [],
   "source": [
    "import numpy as np\n",
    "import matplotlib.pyplot as plt\n",
    "import keras\n",
    "from sklearn.neighbors import KNeighborsClassifier\n",
    "from sklearn.linear_model import LogisticRegression\n",
    "import time"
   ]
  },
  {
   "cell_type": "code",
   "execution_count": 2,
   "id": "suspended-participant",
   "metadata": {},
   "outputs": [],
   "source": [
    "from keras.datasets import cifar10  \n",
    "(X_train, y_train), (X_test, y_test) = cifar10.load_data()"
   ]
  },
  {
   "cell_type": "code",
   "execution_count": 3,
   "id": "trying-shepherd",
   "metadata": {},
   "outputs": [],
   "source": [
    "def cifar_plot(data, label, im_idx=0):\n",
    "    im = data[im_idx, :]\n",
    "\n",
    "    print(\"shape: \", im.shape)\n",
    "    print(\"label: \", label[im_idx])\n",
    "    plt.imshow(im) \n",
    "    plt.show()"
   ]
  },
  {
   "cell_type": "code",
   "execution_count": 4,
   "id": "magnetic-inventory",
   "metadata": {},
   "outputs": [
    {
     "name": "stdout",
     "output_type": "stream",
     "text": [
      "shape:  (32, 32, 3)\n",
      "label:  [0]\n"
     ]
    },
    {
     "data": {
      "image/png": "[encoded data removed]",
      "text/plain": [
       "<Figure size 432x288 with 1 Axes>"
      ]
     },
     "metadata": {
      "needs_background": "light"
     },
     "output_type": "display_data"
    }
   ],
   "source": [
    "cifar_plot(X_train,y_train,2021)"
   ]
  },
  {
   "cell_type": "markdown",
   "id": "relative-weekly",
   "metadata": {},
   "source": [
    "***[MNIST](http://yann.lecun.com/exdb/mnist/)*** dataset\n",
    "\n",
    "The MNIST database of handwritten digits, available from this page, has a training set of 60,000 examples, and a test set of 10,000 examples. It is a subset of a larger set available from NIST. The digits have been size-normalized and centered in a fixed-size image.\n",
    "\n",
    "It is a good database for people who want to try learning techniques and pattern recognition methods on real-world data while spending minimal efforts on preprocessing and formatting."
   ]
  },
  {
   "cell_type": "code",
   "execution_count": 5,
   "id": "quick-internship",
   "metadata": {},
   "outputs": [],
   "source": [
    "import keras\n",
    "from keras.datasets import mnist  \n",
    "(X_mnist_train, y_mnist_train), (X_mnist_test, y_mnist_test) = mnist.load_data()"
   ]
  },
  {
   "cell_type": "code",
   "execution_count": 6,
   "id": "official-lucas",
   "metadata": {},
   "outputs": [],
   "source": [
    "def mnist_plot(data, label, im_idx=0):\n",
    "    im = data[im_idx, :]\n",
    "\n",
    "    print(\"shape: \", im.shape)\n",
    "    print(\"label: \", label[im_idx])\n",
    "    plt.imshow(im, cmap=plt.get_cmap('gray')) \n",
    "    plt.show()"
   ]
  },
  {
   "cell_type": "code",
   "execution_count": 7,
   "id": "convertible-armenia",
   "metadata": {},
   "outputs": [
    {
     "name": "stdout",
     "output_type": "stream",
     "text": [
      "shape:  (28, 28)\n",
      "label:  9\n"
     ]
    },
    {
     "data": {
      "image/png": "[encoded data removed]",
      "text/plain": [
       "<Figure size 432x288 with 1 Axes>"
      ]
     },
     "metadata": {
      "needs_background": "light"
     },
     "output_type": "display_data"
    }
   ],
   "source": [
    "mnist_plot(X_mnist_train,y_mnist_train,424)"
   ]
  },
  {
   "cell_type": "markdown",
   "id": "second-advancement",
   "metadata": {},
   "source": [
    "### K - Nearest Neighbor Classifier"
   ]
  },
  {
   "cell_type": "markdown",
   "id": "found-starter",
   "metadata": {},
   "source": [
    "Neighbors-based classification is a type of instance-based learning or non-generalizing learning: it does not attempt to construct a general internal model, but simply stores instances of the training data. Classification is computed from a simple majority vote of the nearest neighbors of each point: a query point is assigned the data class which has the most representatives within the nearest neighbors of the point.\n",
    "\n",
    "The optimal choice of the value $k$ is highly data-dependent: in general a larger $k$ suppresses the effects of noise, but makes the classification boundaries less distinct.\n",
    "\n",
    "For $k=1$, it's the nearest neighbor classifer.\n",
    "\n",
    "In this section of the lab, you are going to implement the nearest neighbor clasifer."
   ]
  },
  {
   "cell_type": "markdown",
   "id": "expected-suicide",
   "metadata": {},
   "source": [
    "Suppose now that we are given the CIFAR-10 training set of 50,000 images (5,000 images for every one of the labels), and we wish to label the remaining 10,000. The nearest neighbor classifier will take a test image, compare it to every single one of the training images, and predict the label of the closest training image. \n",
    "\n",
    "In the image describing the CIFAR-10 above and on the right you can see an example result of such a procedure for 10 example test images. \n",
    "\n",
    "Notice that in only about 3 out of 10 examples an image of the same class is retrieved, while in the other 7 examples this is not the case. For example, in the 8th row the nearest training image to the horse head is a red car, presumably due to the strong black background. As a result, this image of a horse would in this case be mislabeled as a car.\n",
    "\n",
    "You may have noticed that we left unspecified the details of exactly how we compare two images, which in this case are just two blocks of 32 x 32 x 3. One of the simplest possibilities is to compare the images pixel by pixel and add up all the differences. In other words, given two images and representing them as vectors $I_1$,$I_2$, a reasonable choice for comparing them might be the $L_1$ distance:\n",
    "\n",
    "$$\\|I_1-I_2\\|_1=\\sum_{p}|I_1^p-I_2^p|$$\n",
    "\n",
    "For the images, this can be examplified by:\n",
    "\n",
    "![Image Classification L1 distance](img/l1_distance.jpeg)\n",
    "\n",
    "An example of using pixel-wise differences to compare two images with L1 distance (for one color channel in this example). Two images are subtracted elementwise and then all differences are added up to a single number. If two images are identical the result will be zero. But if the images are very different the result will be large.\n"
   ]
  },
  {
   "cell_type": "code",
   "execution_count": 8,
   "id": "printable-efficiency",
   "metadata": {},
   "outputs": [],
   "source": [
    "import numpy as np\n",
    "\n",
    "class NearestNeighbor(object):\n",
    "  def __init__(self):\n",
    "    pass\n",
    "\n",
    "  def train(self, X, y):\n",
    "    \"\"\" X is N x D where each row is an example. Y is 1-dimension of size N \"\"\"\n",
    "    # the nearest neighbor classifier simply remembers all the training data\n",
    "    self.Xtr = X\n",
    "    self.ytr = y\n",
    "\n",
    "  def predict(self, X):\n",
    "    \"\"\" X is N x D where each row is an example we wish to predict label for \"\"\"\n",
    "    num_test = X.shape[0]\n",
    "    # lets make sure that the output type matches the input type\n",
    "    Ypred = np.zeros(num_test, dtype = self.ytr.dtype)\n",
    "\n",
    "    # loop over all test rows\n",
    "    for i in range(num_test):\n",
    "      # find the nearest training image to the i'th test image\n",
    "      # using the L1 distance (sum of absolute value differences)\n",
    "      \n",
    "      # Exercise: Calculate distances using l1 norm\n",
    "      # Hint: np.sum and np.abs can be useful (Which axis do we want to sum over?)\n",
    "      distances = 0 \n",
    "      min_index = np.argmin(distances) # get the index with smallest distance\n",
    "      \n",
    "      # Exercise: Find the predicted class\n",
    "      # Hint: use self to reference attributes of the class\n",
    "      Ypred[i] = 1\n",
    "\n",
    "    return Ypred"
   ]
  },
  {
   "cell_type": "code",
   "execution_count": 9,
   "id": "suspected-moldova",
   "metadata": {},
   "outputs": [],
   "source": [
    "X_train_flatten = X_train.reshape(X_train.shape[0], 32 * 32 * 3) # becomes 50000 x 3072\n",
    "X_test_flatten = X_test.reshape(X_test.shape[0], 32 * 32 * 3)   # becomes 10000 x 3072\n",
    "\n",
    "# create a Nearest Neighbor classifier class\n",
    "nn = NearestNeighbor() \n",
    "\n",
    "# train the classifier on the training images and labels\n",
    "nn.train(X_train_flatten[:200], y_train[:200]) \n",
    "\n",
    "# predict labels on the test images\n",
    "y_test_predict = nn.predict(X_test_flatten)"
   ]
  },
  {
   "cell_type": "code",
   "execution_count": 10,
   "id": "systematic-livestock",
   "metadata": {},
   "outputs": [
    {
     "name": "stdout",
     "output_type": "stream",
     "text": [
      "[8 1 9 ... 3 4 2]\n",
      "[3 8 8 ... 5 1 7]\n"
     ]
    }
   ],
   "source": [
    "print(y_test_predict)\n",
    "print(y_test.flatten())"
   ]
  },
  {
   "cell_type": "code",
   "execution_count": 11,
   "id": "minus-peeing",
   "metadata": {},
   "outputs": [
    {
     "name": "stdout",
     "output_type": "stream",
     "text": [
      "accuracy: 0.176300\n"
     ]
    }
   ],
   "source": [
    "# and now print the classification accuracy, which is the average number\n",
    "# of examples that are correctly predicted (i.e. label matches)\n",
    "print ('accuracy: %f' % ( np.mean(y_test_predict == y_test.ravel()) ))"
   ]
  },
  {
   "cell_type": "markdown",
   "id": "atomic-queensland",
   "metadata": {},
   "source": [
    "You may also consider nereat neighbor classifier with $L_2$ distance.\n",
    "\n",
    "$$\\|I_1-I_2\\|_2=\\sqrt{\\sum_{p}(I_1^p-I_2^p)^2}$$"
   ]
  },
  {
   "cell_type": "code",
   "execution_count": 12,
   "id": "registered-hollywood",
   "metadata": {},
   "outputs": [],
   "source": [
    "import numpy as np\n",
    "\n",
    "class NearestNeighbor_L2_distance(object):\n",
    "  def __init__(self):\n",
    "    pass\n",
    "\n",
    "  def train(self, X, y):\n",
    "    \"\"\" X is N x D where each row is an example. Y is 1-dimension of size N \"\"\"\n",
    "    # the nearest neighbor classifier simply remembers all the training data\n",
    "    self.Xtr = X\n",
    "    self.ytr = y\n",
    "\n",
    "  def predict(self, X):\n",
    "    \"\"\" X is N x D where each row is an example we wish to predict label for \"\"\"\n",
    "    num_test = X.shape[0]\n",
    "    # lets make sure that the output type matches the input type\n",
    "    Ypred = np.zeros(num_test, dtype = self.ytr.dtype)\n",
    "\n",
    "    # loop over all test rows\n",
    "    for i in range(num_test):\n",
    "      # find the nearest training image to the i'th test image\n",
    "      # using the L2 distance \n",
    "     \n",
    "     # Exercise: Calculate distances using l2 norm\n",
    "      # Hint: np.sum, np.sqrt, and np.square can be useful (Which axis do we want to sum over?)\n",
    "      distances = 0 \n",
    "      min_index = np.argmin(distances) # get the index with smallest distance\n",
    "      \n",
    "      # Find the predicted class\n",
    "      # Use the same code from previous class\n",
    "      Ypred[i] = 1\n",
    "\n",
    "    return Ypred"
   ]
  },
  {
   "cell_type": "markdown",
   "id": "eight-profile",
   "metadata": {},
   "source": [
    "Now, let's consider K - Nearest Neighbor Classifier. "
   ]
  },
  {
   "cell_type": "code",
   "execution_count": 13,
   "id": "senior-belle",
   "metadata": {},
   "outputs": [
    {
     "name": "stdout",
     "output_type": "stream",
     "text": [
      "accuracy: 0.353900\n"
     ]
    }
   ],
   "source": [
    "knn = KNeighborsClassifier(n_neighbors=1, p=2)\n",
    "print ('accuracy: %f' %(knn.fit(X_train_flatten, y_train.ravel()).score(X_test_flatten, y_test.ravel())))"
   ]
  },
  {
   "cell_type": "code",
   "execution_count": 14,
   "id": "velvet-emergency",
   "metadata": {},
   "outputs": [
    {
     "name": "stdout",
     "output_type": "stream",
     "text": [
      "accuracy: 0.339800\n"
     ]
    }
   ],
   "source": [
    "knn = KNeighborsClassifier(n_neighbors=5, p=2)\n",
    "print ('accuracy: %f' %(knn.fit(X_train_flatten, y_train.ravel()).score(X_test_flatten, y_test.ravel())))"
   ]
  },
  {
   "cell_type": "code",
   "execution_count": 15,
   "id": "compact-upper",
   "metadata": {},
   "outputs": [
    {
     "name": "stdout",
     "output_type": "stream",
     "text": [
      "accuracy: 0.338600\n"
     ]
    }
   ],
   "source": [
    "knn = KNeighborsClassifier(n_neighbors=10, p=2)\n",
    "print ('accuracy: %f' %(knn.fit(X_train_flatten, y_train.ravel()).score(X_test_flatten, y_test.ravel())))"
   ]
  },
  {
   "cell_type": "markdown",
   "id": "figured-reminder",
   "metadata": {},
   "source": [
    "### Digits Classification with MNIST"
   ]
  },
  {
   "cell_type": "code",
   "execution_count": 16,
   "id": "decimal-dutch",
   "metadata": {},
   "outputs": [],
   "source": [
    "X_mnist_train_flatten = X_mnist_train.reshape(X_mnist_train.shape[0], 28*28) \n",
    "X_mnist_test_flatten = X_mnist_test.reshape(X_mnist_test.shape[0], 28*28)   "
   ]
  },
  {
   "cell_type": "code",
   "execution_count": 17,
   "id": "rough-error",
   "metadata": {},
   "outputs": [
    {
     "name": "stdout",
     "output_type": "stream",
     "text": [
      "KNN score: 0.968800\n",
      "KNN train time cost: 0.004294 seconds\n",
      "KNN predict time cost: 17.038181 seconds\n",
      "LogisticRegression score: 0.920100\n",
      "LogisticRegression train time cost: 85.451970 seconds\n",
      "LogisticRegression predict time cost: 0.041524 seconds\n"
     ]
    },
    {
     "name": "stderr",
     "output_type": "stream",
     "text": [
      "/opt/anaconda3/envs/MIE424/lib/python3.8/site-packages/sklearn/linear_model/_logistic.py:763: ConvergenceWarning: lbfgs failed to converge (status=1):\n",
      "STOP: TOTAL NO. of ITERATIONS REACHED LIMIT.\n",
      "\n",
      "Increase the number of iterations (max_iter) or scale the data as shown in:\n",
      "    https://scikit-learn.org/stable/modules/preprocessing.html\n",
      "Please also refer to the documentation for alternative solver options:\n",
      "    https://scikit-learn.org/stable/modules/linear_model.html#logistic-regression\n",
      "  n_iter_i = _check_optimize_result(\n"
     ]
    }
   ],
   "source": [
    "knn = KNeighborsClassifier(n_neighbors=5, p=2)\n",
    "\n",
    "tic = time.time()\n",
    "knn_fit = knn.fit(X_mnist_train_flatten, y_mnist_train)\n",
    "knn_train_time = time.time()-tic\n",
    "\n",
    "tic = time.time()\n",
    "knn_accuracy = knn_fit.score(X_mnist_test_flatten, y_mnist_test)\n",
    "knn_predict_time = time.time()-tic\n",
    "\n",
    "print('KNN score: %f' % knn_accuracy)\n",
    "print('KNN train time cost: %f seconds' % knn_train_time)\n",
    "print('KNN predict time cost: %f seconds' % knn_predict_time)\n",
    "\n",
    "\n",
    "logistic = LogisticRegression(max_iter=1000)\n",
    "\n",
    "tic = time.time()\n",
    "logistic_fit = logistic.fit(X_mnist_train_flatten, y_mnist_train)\n",
    "logistic_train_time = time.time()-tic\n",
    "\n",
    "tic = time.time()\n",
    "logistic_accuracy = logistic_fit.score(X_mnist_test_flatten, y_mnist_test)\n",
    "logistic_predict_time = time.time()-tic\n",
    "\n",
    "print('LogisticRegression score: %f' % logistic_accuracy)\n",
    "print('LogisticRegression train time cost: %f seconds' % logistic_train_time)\n",
    "print('LogisticRegression predict time cost: %f seconds' % logistic_predict_time)\n"
   ]
  },
  {
   "cell_type": "code",
   "execution_count": 18,
   "id": "distinct-burlington",
   "metadata": {},
   "outputs": [
    {
     "name": "stdout",
     "output_type": "stream",
     "text": [
      "Automatically created module for IPython interactive environment\n",
      "Iteration 1, loss = 0.32009978\n",
      "Iteration 2, loss = 0.15347534\n",
      "Iteration 3, loss = 0.11544755\n",
      "Iteration 4, loss = 0.09279764\n",
      "Iteration 5, loss = 0.07889367\n",
      "Iteration 6, loss = 0.07170497\n",
      "Iteration 7, loss = 0.06282111\n",
      "Iteration 8, loss = 0.05530788\n",
      "Iteration 9, loss = 0.04960484\n",
      "Iteration 10, loss = 0.04645355\n",
      "Training set score: 0.986800\n",
      "Test set score: 0.970000\n"
     ]
    },
    {
     "data": {
      "image/png": "[encoded data removed]",
      "text/plain": [
       "<Figure size 432x288 with 16 Axes>"
      ]
     },
     "metadata": {},
     "output_type": "display_data"
    }
   ],
   "source": [
    "import warnings\n",
    "\n",
    "import matplotlib.pyplot as plt\n",
    "from sklearn.datasets import fetch_openml\n",
    "from sklearn.exceptions import ConvergenceWarning\n",
    "from sklearn.neural_network import MLPClassifier\n",
    "\n",
    "print(__doc__)\n",
    "\n",
    "# Load data from https://www.openml.org/d/554\n",
    "X, y = fetch_openml('mnist_784', version=1, return_X_y=True)\n",
    "X = X / 255.\n",
    "\n",
    "# rescale the data, use the traditional train/test split\n",
    "X_train, X_test = X[:60000], X[60000:]\n",
    "y_train, y_test = y[:60000], y[60000:]\n",
    "\n",
    "mlp = MLPClassifier(hidden_layer_sizes=(50,), max_iter=10, alpha=1e-4,\n",
    "                    solver='sgd', verbose=10, random_state=1,\n",
    "                    learning_rate_init=.1)\n",
    "\n",
    "# this example won't converge because of CI's time constraints, so we catch the\n",
    "# warning and are ignore it here\n",
    "with warnings.catch_warnings():\n",
    "    warnings.filterwarnings(\"ignore\", category=ConvergenceWarning,\n",
    "                            module=\"sklearn\")\n",
    "    mlp.fit(X_train, y_train)\n",
    "\n",
    "print(\"Training set score: %f\" % mlp.score(X_train, y_train))\n",
    "print(\"Test set score: %f\" % mlp.score(X_test, y_test))\n",
    "\n",
    "fig, axes = plt.subplots(4, 4)\n",
    "# use global min / max to ensure all weights are shown on the same scale\n",
    "vmin, vmax = mlp.coefs_[0].min(), mlp.coefs_[0].max()\n",
    "for coef, ax in zip(mlp.coefs_[0].T, axes.ravel()):\n",
    "    ax.matshow(coef.reshape(28, 28), cmap=plt.cm.gray, vmin=.5 * vmin,\n",
    "               vmax=.5 * vmax)\n",
    "    ax.set_xticks(())\n",
    "    ax.set_yticks(())\n",
    "\n",
    "plt.show()"
   ]
  },
  {
   "cell_type": "markdown",
   "id": "solar-drove",
   "metadata": {},
   "source": [
    "# References\n",
    "\n",
    "https://scikit-learn.org/stable/auto_examples/neural_networks/plot_mnist_filters.html\n",
    "\n",
    "https://cs231n.github.io/classification/"
   ]
  },
  {
   "cell_type": "code",
   "execution_count": null,
   "id": "public-album",
   "metadata": {},
   "outputs": [],
   "source": []
  }
 ],
 "metadata": {
  "kernelspec": {
   "display_name": "Python 3",
   "language": "python",
   "name": "python3"
  },
  "language_info": {
   "codemirror_mode": {
    "name": "ipython",
    "version": 3
   },
   "file_extension": ".py",
   "mimetype": "text/x-python",
   "name": "python",
   "nbconvert_exporter": "python",
   "pygments_lexer": "ipython3",
   "version": "3.8.5"
  }
 },
 "nbformat": 4,
 "nbformat_minor": 5
}
